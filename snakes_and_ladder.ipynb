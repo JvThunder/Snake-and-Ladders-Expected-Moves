{
 "cells": [
  {
   "cell_type": "code",
   "execution_count": 1,
   "metadata": {},
   "outputs": [],
   "source": [
    "# pre-code\n",
    "\n",
    "#import useful libraries\n",
    "import random\n",
    "from random import randint\n",
    "import numpy as np\n",
    "import matplotlib.pyplot as plt\n",
    "\n",
    "# fix seed for consistency\n",
    "random.seed(42)\n",
    "\n",
    "STD_DICE = [1,2,3,4,5,6]"
   ]
  },
  {
   "cell_type": "code",
   "execution_count": 2,
   "metadata": {},
   "outputs": [],
   "source": [
    "class Board:\n",
    "\n",
    "    def __init__(self, ladders, dice):\n",
    "        self.board_size = len(ladders)\n",
    "        self.ladders = ladders\n",
    "        self.end_position =  self.board_size - 1\n",
    "        self.dice = dice\n",
    "        self.dice_size = len(dice)\n",
    "        self.all_moves = self.get_moves()\n",
    "        pass\n",
    "\n",
    "\n",
    "    def __repr__(self):\n",
    "        ret = \"Size: \" + str(self.board_size) + \"\\n\"\n",
    "        ret += \"Ladders: \" + str(self.ladders) + \"\\n\"\n",
    "\n",
    "        ptr = 0\n",
    "        for position_moves in self.all_moves:    \n",
    "            ret += \"Moves \" + str(ptr) + \": \" + str(position_moves) + \"\\n\"\n",
    "            ptr += 1\n",
    "\n",
    "        return ret\n",
    "\n",
    "\n",
    "    def one_move(self, position, dice_roll):\n",
    "        next_position = -1\n",
    "\n",
    "        if position + dice_roll <= self.end_position:\n",
    "            next_position = position + dice_roll\n",
    "        else:\n",
    "            next_position = 2 * self.end_position - position - dice_roll\n",
    "\n",
    "        if self.ladders[next_position] != -1:\n",
    "            next_position = self.ladders[next_position]\n",
    "            \n",
    "        return next_position\n",
    "    \n",
    "\n",
    "    def get_moves(self):\n",
    "        moves = []\n",
    "\n",
    "        for position in range(0, self.board_size - 1):\n",
    "            position_moves = []\n",
    "            for dice_roll in self.dice:\n",
    "                position_moves.append(self.one_move(position, dice_roll)) \n",
    "            moves.append(position_moves)\n",
    "\n",
    "        return moves"
   ]
  },
  {
   "cell_type": "code",
   "execution_count": 3,
   "metadata": {},
   "outputs": [],
   "source": [
    "#one game simulation\n",
    "def simulate_one_game(board):\n",
    "    position = 0\n",
    "    turns = 0\n",
    "\n",
    "    while position != board.end_position:\n",
    "        print(\"You are now at position {}.\".format(position))\n",
    "        rnd_index = randint(0, len(board.dice) - 1)\n",
    "        dice_roll = board.dice[rnd_index]\n",
    "        print(\"You rolled a {}.\".format(dice_roll))\n",
    "        position = board.one_move(position, dice_roll)\n",
    "        turns += 1\n",
    "\n",
    "    print(\"You are now at position {}.\".format(position))\n",
    "    print(\"You win after {} turns.\".format(turns))\n",
    "    return turns"
   ]
  },
  {
   "cell_type": "code",
   "execution_count": 4,
   "metadata": {},
   "outputs": [
    {
     "name": "stdout",
     "output_type": "stream",
     "text": [
      "Size: 9\n",
      "Ladders: [-1, -1, -1, 5, -1, -1, 2, -1, -1]\n",
      "Moves 0: [1, 2, 5, 4, 5, 2]\n",
      "Moves 1: [2, 5, 4, 5, 2, 7]\n",
      "Moves 2: [5, 4, 5, 2, 7, 8]\n",
      "Moves 3: [4, 5, 2, 7, 8, 7]\n",
      "Moves 4: [5, 2, 7, 8, 7, 2]\n",
      "Moves 5: [2, 7, 8, 7, 2, 5]\n",
      "Moves 6: [7, 8, 7, 2, 5, 4]\n",
      "Moves 7: [8, 7, 2, 5, 4, 5]\n",
      "\n"
     ]
    }
   ],
   "source": [
    "# sample board of size 9 (0~8) \n",
    "# 0:Start, 8:End\n",
    "# a ladder from 3 to 5\n",
    "# a snake from 6 to 2 \n",
    "\n",
    "ladders_1 = [-1] * 9\n",
    "ladders_1[3] = 5\n",
    "ladders_1[6] = 2 \n",
    "board_1 = Board(ladders_1, STD_DICE)\n",
    "print(board_1)"
   ]
  },
  {
   "cell_type": "code",
   "execution_count": 5,
   "metadata": {},
   "outputs": [
    {
     "name": "stdout",
     "output_type": "stream",
     "text": [
      "You are now at position 0.\n",
      "You rolled a 6.\n",
      "You are now at position 2.\n",
      "You rolled a 1.\n",
      "You are now at position 5.\n",
      "You rolled a 1.\n",
      "You are now at position 2.\n",
      "You rolled a 6.\n",
      "You are now at position 8.\n",
      "You win after 4 turns.\n"
     ]
    },
    {
     "data": {
      "text/plain": [
       "4"
      ]
     },
     "execution_count": 5,
     "metadata": {},
     "output_type": "execute_result"
    }
   ],
   "source": [
    "simulate_one_game(board_1)\n",
    "#print(board_1.all_moves)"
   ]
  },
  {
   "cell_type": "code",
   "execution_count": 6,
   "metadata": {},
   "outputs": [],
   "source": [
    "def calc_expected(board):\n",
    "    size = board.board_size\n",
    "    A = np.zeros((size,size))\n",
    "\n",
    "    for position in range(0,size - 1):\n",
    "        A[position][position] += 1\n",
    "        for next_position in board.all_moves[position]:\n",
    "            A[position][next_position] -= 1/board.dice_size\n",
    "    \n",
    "    A[size - 1][size - 1] += 1\n",
    "\n",
    "    inv_A = np.linalg.inv(A)\n",
    "    X = np.ones(size)\n",
    "    X[size - 1] = 0\n",
    "    return np.matmul(inv_A, X)"
   ]
  },
  {
   "cell_type": "code",
   "execution_count": 7,
   "metadata": {},
   "outputs": [
    {
     "name": "stdout",
     "output_type": "stream",
     "text": [
      "[2. 2. 0.]\n"
     ]
    }
   ],
   "source": [
    "# Simple validation testcase\n",
    "ladders_2 = [-1] * 3\n",
    "board_2 = Board(ladders_2, [1, 2])\n",
    "print(calc_expected(board_2))"
   ]
  },
  {
   "cell_type": "markdown",
   "metadata": {},
   "source": [
    "The cell below is to create the snake and ladder board"
   ]
  },
  {
   "cell_type": "code",
   "execution_count": 8,
   "metadata": {},
   "outputs": [],
   "source": [
    "# Standard snake and ladder board\n",
    "STD_ladders = [-1] * 101\n",
    "STD_ladders[1] = 38\n",
    "STD_ladders[4] = 14\n",
    "STD_ladders[9] = 31\n",
    "STD_ladders[17] = 7\n",
    "STD_ladders[21] = 42\n",
    "STD_ladders[28] = 84\n",
    "STD_ladders[51] = 67\n",
    "STD_ladders[54] = 34\n",
    "STD_ladders[62] = 19\n",
    "STD_ladders[64] = 60\n",
    "STD_ladders[72] = 91\n",
    "STD_ladders[80] = 100\n",
    "STD_ladders[87] = 36\n",
    "STD_ladders[93] = 73\n",
    "STD_ladders[95] = 75\n",
    "STD_ladders[98] = 79\n",
    "STD_board = Board(STD_ladders, STD_DICE)"
   ]
  },
  {
   "cell_type": "code",
   "execution_count": 9,
   "metadata": {},
   "outputs": [
    {
     "name": "stdout",
     "output_type": "stream",
     "text": [
      "[38.55513258 39.39602702 39.21798303 38.65119855 38.83176359 38.71527307\n",
      " 38.55427856 38.36212094 38.14971909 38.3087432  37.95869816 38.01632998\n",
      " 37.58831146 37.20917525 36.87530795 36.2046364  35.85842791 35.14343821\n",
      " 35.0202003  34.93435799 34.87210416 35.26275721 33.78117694 34.07218274\n",
      " 34.28077286 34.41930412 34.49858118 34.52452545 36.10631983 35.81821753\n",
      " 35.53231358 35.25049172 34.97424352 34.68019108 34.38246158 34.08960368\n",
      " 33.81688989 33.55956055 33.31675432 32.91587647 32.59608455 32.33245632\n",
      " 32.18060712 32.01558454 31.85991693 30.51060935 30.67733302 30.75068696\n",
      " 31.26951191 31.02544908 30.92591127 32.0975473  31.67767507 31.19081058\n",
      " 30.03400233 29.56107213 30.32868439 29.44458002 29.15844175 28.2696236\n",
      " 27.44161209 26.72349092 24.55345375 24.13995379 23.16137964 22.9367147\n",
      " 22.47354307 22.41476386 21.91413496 21.65895405 21.5701672  21.58872506\n",
      " 21.99897591 22.06208855 18.91036161 20.1278686  21.03744609 21.70007221\n",
      " 22.15601837 22.44076442 26.36891392 27.43291049 26.49491105 25.67582896\n",
      " 24.89169529 24.14924072 23.56889703 21.60976347 20.86691442 20.76133645\n",
      " 20.18689321 19.6945133  20.08683489 19.14479015 16.40982013 15.79014539\n",
      " 16.74023382 16.74023382 15.79014539 16.40982013  0.        ]\n"
     ]
    }
   ],
   "source": [
    "# print the number of expected moves to win starting at position i\n",
    "print(calc_expected(STD_board))\n",
    "std_board_expected = calc_expected(STD_board)\n",
    "index = []\n",
    "for i in range (len(std_board_expected)):\n",
    "    index.append(i)"
   ]
  },
  {
   "cell_type": "code",
   "execution_count": 10,
   "metadata": {},
   "outputs": [],
   "source": [
    "grid = np.zeros((10,10))\n",
    "cnt = 0\n",
    "for i in range(10):\n",
    "    for j in range(10):\n",
    "        grid[i][j] = std_board_expected[cnt]\n",
    "        cnt += 1"
   ]
  },
  {
   "cell_type": "code",
   "execution_count": 11,
   "metadata": {},
   "outputs": [
    {
     "name": "stdout",
     "output_type": "stream",
     "text": [
      "[[38.55513258 39.39602702 39.21798303 38.65119855 38.83176359 38.71527307\n",
      "  38.55427856 38.36212094 38.14971909 38.3087432 ]\n",
      " [37.95869816 38.01632998 37.58831146 37.20917525 36.87530795 36.2046364\n",
      "  35.85842791 35.14343821 35.0202003  34.93435799]\n",
      " [34.87210416 35.26275721 33.78117694 34.07218274 34.28077286 34.41930412\n",
      "  34.49858118 34.52452545 36.10631983 35.81821753]\n",
      " [35.53231358 35.25049172 34.97424352 34.68019108 34.38246158 34.08960368\n",
      "  33.81688989 33.55956055 33.31675432 32.91587647]\n",
      " [32.59608455 32.33245632 32.18060712 32.01558454 31.85991693 30.51060935\n",
      "  30.67733302 30.75068696 31.26951191 31.02544908]\n",
      " [30.92591127 32.0975473  31.67767507 31.19081058 30.03400233 29.56107213\n",
      "  30.32868439 29.44458002 29.15844175 28.2696236 ]\n",
      " [27.44161209 26.72349092 24.55345375 24.13995379 23.16137964 22.9367147\n",
      "  22.47354307 22.41476386 21.91413496 21.65895405]\n",
      " [21.5701672  21.58872506 21.99897591 22.06208855 18.91036161 20.1278686\n",
      "  21.03744609 21.70007221 22.15601837 22.44076442]\n",
      " [26.36891392 27.43291049 26.49491105 25.67582896 24.89169529 24.14924072\n",
      "  23.56889703 21.60976347 20.86691442 20.76133645]\n",
      " [20.18689321 19.6945133  20.08683489 19.14479015 16.40982013 15.79014539\n",
      "  16.74023382 16.74023382 15.79014539 16.40982013]]\n"
     ]
    }
   ],
   "source": [
    "print(grid)"
   ]
  },
  {
   "cell_type": "markdown",
   "metadata": {},
   "source": [
    "Given a snake and ladder board, the graph and heatmp below will plot the expected moves to win at position x."
   ]
  },
  {
   "cell_type": "code",
   "execution_count": 12,
   "metadata": {},
   "outputs": [
    {
     "data": {
      "image/png": "[encoded data removed]",
      "text/plain": [
       "<Figure size 432x288 with 1 Axes>"
      ]
     },
     "metadata": {
      "needs_background": "light"
     },
     "output_type": "display_data"
    }
   ],
   "source": [
    "plt.plot(index, std_board_expected, color=\"blue\")\n",
    "plt.xlabel(\"Board position\")\n",
    "plt.ylabel(\"Expected no. turns to win\")\n",
    "plt.show()"
   ]
  },
  {
   "cell_type": "code",
   "execution_count": 13,
   "metadata": {},
   "outputs": [
    {
     "data": {
      "text/plain": [
       "<AxesSubplot:>"
      ]
     },
     "execution_count": 13,
     "metadata": {},
     "output_type": "execute_result"
    },
    {
     "data": {
      "image/png": "[encoded data removed]",
      "text/plain": [
       "<Figure size 432x288 with 2 Axes>"
      ]
     },
     "metadata": {
      "needs_background": "light"
     },
     "output_type": "display_data"
    }
   ],
   "source": [
    "import seaborn as sb\n",
    "sb.heatmap(grid)"
   ]
  },
  {
   "cell_type": "markdown",
   "metadata": {},
   "source": [
    "The function call below will simulate a single game"
   ]
  },
  {
   "cell_type": "code",
   "execution_count": 13,
   "metadata": {},
   "outputs": [
    {
     "name": "stdout",
     "output_type": "stream",
     "text": [
      "You are now at position 0.\n",
      "You rolled a 3.\n",
      "You are now at position 3.\n",
      "You rolled a 2.\n",
      "You are now at position 5.\n",
      "You rolled a 2.\n",
      "You are now at position 7.\n",
      "You rolled a 2.\n",
      "You are now at position 31.\n",
      "You rolled a 6.\n",
      "You are now at position 37.\n",
      "You rolled a 1.\n",
      "You are now at position 38.\n",
      "You rolled a 6.\n",
      "You are now at position 44.\n",
      "You rolled a 6.\n",
      "You are now at position 50.\n",
      "You rolled a 5.\n",
      "You are now at position 55.\n",
      "You rolled a 1.\n",
      "You are now at position 56.\n",
      "You rolled a 5.\n",
      "You are now at position 61.\n",
      "You rolled a 4.\n",
      "You are now at position 65.\n",
      "You rolled a 1.\n",
      "You are now at position 66.\n",
      "You rolled a 1.\n",
      "You are now at position 67.\n",
      "You rolled a 1.\n",
      "You are now at position 68.\n",
      "You rolled a 2.\n",
      "You are now at position 70.\n",
      "You rolled a 2.\n",
      "You are now at position 91.\n",
      "You rolled a 5.\n",
      "You are now at position 96.\n",
      "You rolled a 5.\n",
      "You are now at position 99.\n",
      "You rolled a 1.\n",
      "You are now at position 100.\n",
      "You win after 20 turns.\n"
     ]
    },
    {
     "data": {
      "text/plain": [
       "20"
      ]
     },
     "execution_count": 13,
     "metadata": {},
     "output_type": "execute_result"
    }
   ],
   "source": [
    "simulate_one_game(STD_board)"
   ]
  },
  {
   "cell_type": "code",
   "execution_count": null,
   "metadata": {},
   "outputs": [],
   "source": []
  }
 ],
 "metadata": {
  "kernelspec": {
   "display_name": "Python 3.9.13 64-bit (microsoft store)",
   "language": "python",
   "name": "python3"
  },
  "language_info": {
   "codemirror_mode": {
    "name": "ipython",
    "version": 3
   },
   "file_extension": ".py",
   "mimetype": "text/x-python",
   "name": "python",
   "nbconvert_exporter": "python",
   "pygments_lexer": "ipython3",
   "version": "3.9.13"
  },
  "orig_nbformat": 2,
  "vscode": {
   "interpreter": {
    "hash": "b52c88e6ee331d4ac1d9161e0d3dcc0ac2f3554e8d3918fe615486dc72972ae7"
   }
  }
 },
 "nbformat": 4,
 "nbformat_minor": 2
}
